{
 "cells": [
  {
   "cell_type": "code",
   "execution_count": 2,
   "id": "26033818-f43d-4070-9d02-dccc26f7107f",
   "metadata": {},
   "outputs": [],
   "source": [
    "# Import libraries\n",
    "import numpy as np\n",
    "import pandas as pd\n",
    "import requests"
   ]
  },
  {
   "cell_type": "markdown",
   "id": "fbfa9341-b0c7-40c6-9ab3-404ed3c79cb6",
   "metadata": {},
   "source": [
    "# Importing Data"
   ]
  },
  {
   "cell_type": "code",
   "execution_count": 4,
   "id": "ec2a0899-6988-4d97-8ff5-cb11f760dcdc",
   "metadata": {},
   "outputs": [],
   "source": [
    "# URL of the excel file\n",
    "url = 'https://www.census.gov/retail/mrts/www/mrtssales92-present.xlsx'\n",
    "response = requests.get(url)\n",
    "with open('data.xlsx', 'wb') as file:\n",
    "    file.write(response.content)"
   ]
  },
  {
   "cell_type": "code",
   "execution_count": 5,
   "id": "9910e1a1-aec7-450d-8ba0-cc7d6fad7164",
   "metadata": {},
   "outputs": [],
   "source": [
    "# Read data\n",
    "data = pd.read_excel('data.xlsx', sheet_name=None, header=None)"
   ]
  },
  {
   "cell_type": "code",
   "execution_count": 6,
   "id": "c6822261-00c1-486a-936c-e6cb36d1a695",
   "metadata": {},
   "outputs": [],
   "source": [
    "# Create dictionary containing all the dataframe \n",
    "dataframes = {sheet_name: df for sheet_name, df in data.items()}"
   ]
  },
  {
   "cell_type": "markdown",
   "id": "c0d2f2c9-93aa-49f6-82e9-f15e46d44f90",
   "metadata": {},
   "source": [
    "## Automating dataframe variable assignment"
   ]
  },
  {
   "cell_type": "code",
   "execution_count": 8,
   "id": "02eecc26-6102-472e-90dc-39595caed02b",
   "metadata": {},
   "outputs": [],
   "source": [
    "# Dataframe variable assignment\n",
    "for year, df in dataframes.items():\n",
    "    globals()[f\"df_{year}\"] = df"
   ]
  },
  {
   "cell_type": "markdown",
   "id": "50ed6d80-4e5c-44a6-a7de-843d712d618f",
   "metadata": {},
   "source": [
    "## Checking df shapes"
   ]
  },
  {
   "cell_type": "code",
   "execution_count": 10,
   "id": "bd81ffa1-c424-4a8c-acd0-322a216bc96c",
   "metadata": {},
   "outputs": [],
   "source": [
    "# Find start and end year\n",
    "start_year = int(min(dataframes.keys()))\n",
    "end_year = int(max(dataframes.keys()))"
   ]
  },
  {
   "cell_type": "code",
   "execution_count": 11,
   "id": "f657a2e4-fe14-416d-af8b-6ca603598812",
   "metadata": {},
   "outputs": [],
   "source": [
    "# Create list with shapes of all the df\n",
    "data_summary = []\n",
    "\n",
    "for year in range(start_year, end_year+1):\n",
    "    df_name = f\"df_{year}\"\n",
    "    df = globals()[df_name]\n",
    "    data_summary.append({\n",
    "        \"year\": year,\n",
    "        \"row_count\": df.shape[0],\n",
    "        \"column_count\": df.shape[1]\n",
    "    })\n",
    "\n",
    "summary_df = pd.DataFrame(data_summary)"
   ]
  },
  {
   "cell_type": "markdown",
   "id": "b1a413a3-5b00-4d6f-88d9-cb812a6d6893",
   "metadata": {},
   "source": [
    "# Data Wragling"
   ]
  },
  {
   "cell_type": "markdown",
   "id": "27c4081e-3d79-4b3d-a18b-073ec1a91947",
   "metadata": {},
   "source": [
    "## Automating Data Restructuring and Transformation Pipeline"
   ]
  },
  {
   "cell_type": "code",
   "execution_count": 14,
   "id": "36ed490c-5c15-4283-bac1-8e61bd5b9ec7",
   "metadata": {},
   "outputs": [],
   "source": [
    "def clean_dataframe(df, year):\n",
    "    # Removing 3 rows at the top\n",
    "    df = df.iloc[3:]\n",
    "\n",
    "    # Extracting headers from columns\n",
    "    col_0_1_header = df.iloc[0, :2]\n",
    "    col_2_rest_header = df.iloc[1, 2:]\n",
    "\n",
    "    # Combine the headers into one list\n",
    "    headers = list(col_0_1_header) + list(col_2_rest_header)\n",
    "\n",
    "    # Determine the number of columns to keep\n",
    "    year_str = str(year)  # Convert year to string for comparison\n",
    "    year_indices = [i for i, value in enumerate(headers) if year_str in value]\n",
    "\n",
    "    if not year_indices:\n",
    "        raise ValueError(f\"No columns found for year: {year}\")\n",
    "\n",
    "    last_column_index = max(year_indices) + 1\n",
    "\n",
    "    # Final headers\n",
    "    final_headers = headers[:last_column_index]\n",
    "\n",
    "    # Removing the columns with header content\n",
    "    df = df.drop([3, 4]).reset_index(drop=True)\n",
    "\n",
    "    # Finding row indices for \"ADJUSTED\" and \"Not adjusted\"\n",
    "    start_row_index, end_row_index = df[df[1].str.contains(\"ADJUSTED\", case=False, na=False)].index\n",
    "\n",
    "    # Finding first NaN row index\n",
    "    first_nan_row_index = df[df[1].isna()].index[0] if df[1].isna().any() else None\n",
    "\n",
    "    # Extracting not adjusted sales values\n",
    "    df_not_adjusted = df.iloc[start_row_index + 1:end_row_index, 0:last_column_index]\n",
    "    df_not_adjusted.columns = final_headers\n",
    "\n",
    "    # Extracting adjusted sales values\n",
    "    df_adjusted = df.iloc[end_row_index + 1:first_nan_row_index, 0:last_column_index]\n",
    "    df_adjusted.columns = final_headers\n",
    "\n",
    "    # Melt the dataframes\n",
    "    df_not_adjusted_melted = pd.melt(df_not_adjusted, id_vars=['NAICS  Code', 'Kind of Business'], var_name='sales_month', value_name='sales')\n",
    "    df_adjusted_melted = pd.melt(df_adjusted, id_vars=['NAICS  Code', 'Kind of Business'], var_name='sales_month', value_name='sales')\n",
    "\n",
    "    # Adding estimate_type column\n",
    "    df_adjusted_melted['estimate_type'] = 'adjusted'\n",
    "    df_not_adjusted_melted['estimate_type'] = 'not adjusted'\n",
    "\n",
    "    # Union the final dataframe\n",
    "    sales_combined = pd.concat([df_not_adjusted_melted, df_adjusted_melted], ignore_index=True)\n",
    "\n",
    "    return sales_combined\n",
    "\n",
    "# Assuming 'dataframes' is your dictionary with year keys\n",
    "cleaned_dataframes = {}\n",
    "for year, df in dataframes.items():\n",
    "    sales_data = clean_dataframe(df, year)\n",
    "    cleaned_dataframes[year] = sales_data\n",
    "\n"
   ]
  },
  {
   "cell_type": "code",
   "execution_count": 15,
   "id": "4d58881a-c4eb-4f21-9c80-3456db198388",
   "metadata": {},
   "outputs": [],
   "source": [
    "# Concating all dataframes to get single long-form table \n",
    "all_sales_data = pd.concat(cleaned_dataframes.values(), ignore_index=True)"
   ]
  },
  {
   "cell_type": "code",
   "execution_count": 16,
   "id": "efdfd4e7-01e6-4669-bd54-745004bac78a",
   "metadata": {},
   "outputs": [
    {
     "data": {
      "text/plain": [
       "(40479, 5)"
      ]
     },
     "execution_count": 16,
     "metadata": {},
     "output_type": "execute_result"
    }
   ],
   "source": [
    "# Check shape \n",
    "all_sales_data.shape"
   ]
  },
  {
   "cell_type": "code",
   "execution_count": 17,
   "id": "70a36c46-eb05-4f91-9b5d-80ba95598b8d",
   "metadata": {},
   "outputs": [
    {
     "data": {
      "text/plain": [
       "0"
      ]
     },
     "execution_count": 17,
     "metadata": {},
     "output_type": "execute_result"
    }
   ],
   "source": [
    "# Check duplicates\n",
    "all_sales_data.duplicated().sum()"
   ]
  },
  {
   "cell_type": "code",
   "execution_count": 18,
   "id": "03f0807a-8463-4cad-b5c6-098d85dc4f44",
   "metadata": {},
   "outputs": [
    {
     "name": "stderr",
     "output_type": "stream",
     "text": [
      "C:\\Users\\ANJALI\\AppData\\Local\\Temp\\ipykernel_26420\\415417759.py:2: FutureWarning: Downcasting behavior in `replace` is deprecated and will be removed in a future version. To retain the old behavior, explicitly call `result.infer_objects(copy=False)`. To opt-in to the future behavior, set `pd.set_option('future.no_silent_downcasting', True)`\n",
      "  all_sales_data.replace(['(NA)', '(S)'], np.nan, inplace=True)\n"
     ]
    }
   ],
   "source": [
    "# Replace 'NA' and Suppressed (S) with 'nan'\n",
    "all_sales_data.replace(['(NA)', '(S)'], np.nan, inplace=True)\n",
    "all_sales_data = all_sales_data.infer_objects(copy=False)"
   ]
  },
  {
   "cell_type": "code",
   "execution_count": 19,
   "id": "2ac73f15-882f-46d7-8dcb-e763a35fe8df",
   "metadata": {},
   "outputs": [
    {
     "name": "stdout",
     "output_type": "stream",
     "text": [
      "<class 'pandas.core.frame.DataFrame'>\n",
      "RangeIndex: 40479 entries, 0 to 40478\n",
      "Data columns (total 5 columns):\n",
      " #   Column            Non-Null Count  Dtype  \n",
      "---  ------            --------------  -----  \n",
      " 0   NAICS  Code       34977 non-null  object \n",
      " 1   Kind of Business  40479 non-null  object \n",
      " 2   sales_month       40479 non-null  object \n",
      " 3   sales             39493 non-null  float64\n",
      " 4   estimate_type     40479 non-null  object \n",
      "dtypes: float64(1), object(4)\n",
      "memory usage: 1.5+ MB\n"
     ]
    }
   ],
   "source": [
    "# Check basic df information\n",
    "all_sales_data.info()"
   ]
  },
  {
   "cell_type": "code",
   "execution_count": 20,
   "id": "de4f2d6f-d8be-4a71-ae95-06445ecfb446",
   "metadata": {},
   "outputs": [
    {
     "data": {
      "text/plain": [
       "NAICS  Code         5502\n",
       "Kind of Business       0\n",
       "sales_month            0\n",
       "sales                986\n",
       "estimate_type          0\n",
       "dtype: int64"
      ]
     },
     "execution_count": 20,
     "metadata": {},
     "output_type": "execute_result"
    }
   ],
   "source": [
    "# Check number of null values\n",
    "all_sales_data.isna().sum()"
   ]
  },
  {
   "cell_type": "code",
   "execution_count": 21,
   "id": "283dfa03-e6a4-47d8-8193-fc9475edf8b7",
   "metadata": {},
   "outputs": [],
   "source": [
    "# Rename the column names\n",
    "all_sales_data.rename(columns={\"NAICS  Code\": \"naics_code\", \"Kind of Business\": \"kind_of_business\"}, inplace=True)"
   ]
  },
  {
   "cell_type": "code",
   "execution_count": 22,
   "id": "62c032e6-2703-4146-a2e7-4fb0f4829477",
   "metadata": {},
   "outputs": [],
   "source": [
    "# Create a list of filter \n",
    "category = [\"Men's clothing stores\", \"Women's clothing stores\"]"
   ]
  },
  {
   "cell_type": "code",
   "execution_count": 23,
   "id": "462c1a0a-e2b5-41b3-ba5e-c11ca50e1854",
   "metadata": {},
   "outputs": [],
   "source": [
    "# Filtering data\n",
    "clothing_business_sales = all_sales_data[all_sales_data['kind_of_business'].isin(category)]"
   ]
  },
  {
   "cell_type": "code",
   "execution_count": 24,
   "id": "60b67ead-93a2-4b7b-8d5b-7faf216de501",
   "metadata": {},
   "outputs": [],
   "source": [
    "# Resetting index\n",
    "clothing_business_sales.reset_index(drop=True, inplace=True)"
   ]
  },
  {
   "cell_type": "code",
   "execution_count": 25,
   "id": "56be85e6-f6fe-401c-abe8-b8e6d07d7bc5",
   "metadata": {},
   "outputs": [],
   "source": [
    "# Dropping uneccessary columns\n",
    "clothing_business_sales = clothing_business_sales.drop('naics_code', axis=1)"
   ]
  },
  {
   "cell_type": "code",
   "execution_count": 26,
   "id": "c7339ef3-9366-4535-b047-0eea7394462c",
   "metadata": {},
   "outputs": [],
   "source": [
    "# Creating a function to deal with date format\n",
    "import re\n",
    "from datetime import datetime\n",
    "\n",
    "def convert_date(date_str):\n",
    "    date_str = date_str.replace(\".\", \"\")\n",
    "    date_str = re.sub(r\"(\\b\\w{3}\\.?\\s+\\d{4}).*\", r\"\\1\", date_str)\n",
    "    return datetime.strptime(date_str, \"%b %Y\").strftime(\"01/%m/%Y\")"
   ]
  },
  {
   "cell_type": "code",
   "execution_count": 27,
   "id": "99492d99-be59-45ab-99ff-f93cba72f7d1",
   "metadata": {},
   "outputs": [],
   "source": [
    "# Using function to change the format of sales_month\n",
    "clothing_business_sales.loc[:, 'sales_month'] = clothing_business_sales['sales_month'].apply(convert_date)"
   ]
  },
  {
   "cell_type": "code",
   "execution_count": 28,
   "id": "eae050c6-8b25-4e5c-b604-360b3aadb22a",
   "metadata": {},
   "outputs": [
    {
     "name": "stdout",
     "output_type": "stream",
     "text": [
      "<class 'pandas.core.frame.DataFrame'>\n",
      "RangeIndex: 1572 entries, 0 to 1571\n",
      "Data columns (total 4 columns):\n",
      " #   Column            Non-Null Count  Dtype  \n",
      "---  ------            --------------  -----  \n",
      " 0   kind_of_business  1572 non-null   object \n",
      " 1   sales_month       1572 non-null   object \n",
      " 2   sales             1486 non-null   float64\n",
      " 3   estimate_type     1572 non-null   object \n",
      "dtypes: float64(1), object(3)\n",
      "memory usage: 49.3+ KB\n"
     ]
    }
   ],
   "source": [
    "clothing_business_sales.info()"
   ]
  },
  {
   "cell_type": "code",
   "execution_count": 29,
   "id": "64066419-67f8-4f5f-9de3-bf2466f305d9",
   "metadata": {},
   "outputs": [],
   "source": [
    "# Changing to datetime format\n",
    "clothing_business_sales.loc[:,'sales_month'] = pd.to_datetime(clothing_business_sales['sales_month'], format='%d/%m/%Y')"
   ]
  },
  {
   "cell_type": "code",
   "execution_count": 30,
   "id": "02c4a33d-738d-4ca8-b002-a217ce96951d",
   "metadata": {},
   "outputs": [],
   "source": [
    "# Sorting data based on sales_month\n",
    "clothing_business_sales = clothing_business_sales.sort_values(by='sales_month', ascending=True)"
   ]
  },
  {
   "cell_type": "code",
   "execution_count": 31,
   "id": "3564d52f-0d88-4a85-b553-3c003af1c4a6",
   "metadata": {},
   "outputs": [],
   "source": [
    "# Convert the date string to a datetime object for comparison\n",
    "cutoff_date = pd.to_datetime('2021-01-01')\n",
    "\n",
    "# Filter based on both conditions\n",
    "unadjusted_clothing_sales = clothing_business_sales[\n",
    "    (clothing_business_sales['estimate_type'] == 'not adjusted') &\n",
    "    (clothing_business_sales['sales_month'] < cutoff_date)\n",
    "].reset_index(drop=True)\n",
    "\n",
    "adjusted_clothing_sales = clothing_business_sales[\n",
    "    (clothing_business_sales['estimate_type'] == 'adjusted') &\n",
    "    (clothing_business_sales['sales_month'] < cutoff_date)\n",
    "].reset_index(drop=True)"
   ]
  },
  {
   "cell_type": "code",
   "execution_count": 32,
   "id": "55c9bbe5-6455-4c85-bb52-ae9af8e8af68",
   "metadata": {},
   "outputs": [],
   "source": [
    "unadjusted_clothing_sales.drop('estimate_type', axis=1, inplace=True)\n",
    "adjusted_clothing_sales.drop('estimate_type', axis=1, inplace=True)"
   ]
  },
  {
   "cell_type": "code",
   "execution_count": 33,
   "id": "89666f65-6b98-46cd-b443-a057c46a21c1",
   "metadata": {},
   "outputs": [],
   "source": [
    "unadjusted_clothing_sales.columns = unadjusted_clothing_sales.columns.str.strip()"
   ]
  },
  {
   "cell_type": "code",
   "execution_count": 34,
   "id": "391a02de-c16a-4f32-8da9-c8e5a3ce6a46",
   "metadata": {},
   "outputs": [
    {
     "data": {
      "text/html": [
       "<div>\n",
       "<style scoped>\n",
       "    .dataframe tbody tr th:only-of-type {\n",
       "        vertical-align: middle;\n",
       "    }\n",
       "\n",
       "    .dataframe tbody tr th {\n",
       "        vertical-align: top;\n",
       "    }\n",
       "\n",
       "    .dataframe thead th {\n",
       "        text-align: right;\n",
       "    }\n",
       "</style>\n",
       "<table border=\"1\" class=\"dataframe\">\n",
       "  <thead>\n",
       "    <tr style=\"text-align: right;\">\n",
       "      <th></th>\n",
       "      <th>kind_of_business</th>\n",
       "      <th>sales_month</th>\n",
       "      <th>sales</th>\n",
       "    </tr>\n",
       "  </thead>\n",
       "  <tbody>\n",
       "    <tr>\n",
       "      <th>691</th>\n",
       "      <td>Men's clothing stores</td>\n",
       "      <td>2020-10-01 00:00:00</td>\n",
       "      <td>NaN</td>\n",
       "    </tr>\n",
       "    <tr>\n",
       "      <th>693</th>\n",
       "      <td>Men's clothing stores</td>\n",
       "      <td>2020-11-01 00:00:00</td>\n",
       "      <td>NaN</td>\n",
       "    </tr>\n",
       "  </tbody>\n",
       "</table>\n",
       "</div>"
      ],
      "text/plain": [
       "          kind_of_business          sales_month  sales\n",
       "691  Men's clothing stores  2020-10-01 00:00:00    NaN\n",
       "693  Men's clothing stores  2020-11-01 00:00:00    NaN"
      ]
     },
     "execution_count": 34,
     "metadata": {},
     "output_type": "execute_result"
    }
   ],
   "source": [
    "nan_sales_rows = unadjusted_clothing_sales[unadjusted_clothing_sales['sales'].isna()]\n",
    "nan_sales_rows"
   ]
  },
  {
   "cell_type": "code",
   "execution_count": 35,
   "id": "2e40053c-add0-453c-8821-a9f21dd1f685",
   "metadata": {},
   "outputs": [],
   "source": [
    "# Fill NaN values in 'sales' with rolling averages within each 'kind_of_business' group\n",
    "unadjusted_clothing_sales['sales'] = (\n",
    "    unadjusted_clothing_sales.groupby('kind_of_business', group_keys=False)['sales']\n",
    "    .apply(lambda x: x.fillna(x.rolling(window=3, min_periods=1).mean()))\n",
    ")"
   ]
  },
  {
   "cell_type": "code",
   "execution_count": 36,
   "id": "f0104cd9-541a-42a4-a005-c87831e73375",
   "metadata": {},
   "outputs": [],
   "source": [
    "adjusted_clothing_sales.columns = adjusted_clothing_sales.columns.str.strip()"
   ]
  },
  {
   "cell_type": "code",
   "execution_count": 37,
   "id": "4c36077f-6e3a-4604-8594-feb3270b6d55",
   "metadata": {},
   "outputs": [
    {
     "data": {
      "text/html": [
       "<div>\n",
       "<style scoped>\n",
       "    .dataframe tbody tr th:only-of-type {\n",
       "        vertical-align: middle;\n",
       "    }\n",
       "\n",
       "    .dataframe tbody tr th {\n",
       "        vertical-align: top;\n",
       "    }\n",
       "\n",
       "    .dataframe thead th {\n",
       "        text-align: right;\n",
       "    }\n",
       "</style>\n",
       "<table border=\"1\" class=\"dataframe\">\n",
       "  <thead>\n",
       "    <tr style=\"text-align: right;\">\n",
       "      <th></th>\n",
       "      <th>kind_of_business</th>\n",
       "      <th>sales_month</th>\n",
       "      <th>sales</th>\n",
       "    </tr>\n",
       "  </thead>\n",
       "  <tbody>\n",
       "    <tr>\n",
       "      <th>691</th>\n",
       "      <td>Men's clothing stores</td>\n",
       "      <td>2020-10-01 00:00:00</td>\n",
       "      <td>NaN</td>\n",
       "    </tr>\n",
       "    <tr>\n",
       "      <th>692</th>\n",
       "      <td>Men's clothing stores</td>\n",
       "      <td>2020-11-01 00:00:00</td>\n",
       "      <td>NaN</td>\n",
       "    </tr>\n",
       "  </tbody>\n",
       "</table>\n",
       "</div>"
      ],
      "text/plain": [
       "          kind_of_business          sales_month  sales\n",
       "691  Men's clothing stores  2020-10-01 00:00:00    NaN\n",
       "692  Men's clothing stores  2020-11-01 00:00:00    NaN"
      ]
     },
     "execution_count": 37,
     "metadata": {},
     "output_type": "execute_result"
    }
   ],
   "source": [
    "nan_sales_rows = adjusted_clothing_sales[adjusted_clothing_sales['sales'].isna()]\n",
    "nan_sales_rows"
   ]
  },
  {
   "cell_type": "code",
   "execution_count": 38,
   "id": "f9f540b1-7616-4800-955d-6a03fe33cd91",
   "metadata": {},
   "outputs": [],
   "source": [
    "# Fill NaN values in 'sales' with rolling averages within each 'kind_of_business' group\n",
    "adjusted_clothing_sales['sales'] = (\n",
    "    adjusted_clothing_sales.groupby('kind_of_business', group_keys=False)['sales']\n",
    "    .apply(lambda x: x.fillna(x.rolling(window=3, min_periods=1).mean()))\n",
    ")"
   ]
  },
  {
   "cell_type": "markdown",
   "id": "d4b45064-150a-4cf1-af2a-758f393a7232",
   "metadata": {},
   "source": [
    "# Exporting Data to Database"
   ]
  },
  {
   "cell_type": "markdown",
   "id": "35bf638a-d995-410f-9c07-e5b27f711fe2",
   "metadata": {},
   "source": [
    "Since the data the is being loaded into the databse is ready for analysis and no major transformation is required for after loading, the data that is being loaded is purpose specific that's why in case of changes required to the data for the end analysis will take place here, the data will be overwritten rather than appended. Since any other form of loading will increase the complexies of checking for exceptions. "
   ]
  },
  {
   "cell_type": "code",
   "execution_count": 122,
   "id": "b0e54396-a95f-4954-870a-17d580ceaf10",
   "metadata": {
    "scrolled": true
   },
   "outputs": [],
   "source": [
    "import pyodbc\n",
    "\n",
    "server = r'localhost\\SQLEXPRESS' \n",
    "database = 'clothing_business_sales' \n",
    "username = r'LAPTOP-J7KF0B2O\\ANJALI' \n",
    "password = '' \n",
    "\n",
    "cnxn = pyodbc.connect('DRIVER={ODBC Driver 17 for SQL Server};'\n",
    "                      'SERVER=' + server + ';'\n",
    "                      'DATABASE=' + database + ';'\n",
    "                      'Trusted_Connection=yes;')\n",
    "cursor = cnxn.cursor()\n",
    "\n",
    "# Delete existing data\n",
    "cursor.execute(\"DELETE FROM clothing_business_sales.unadjusted\")\n",
    "\n",
    "# Insert Dataframe into SQL Server:\n",
    "for index, row in unadjusted_clothing_sales.iterrows():\n",
    "     cursor.execute(\"INSERT INTO clothing_business_sales.unadjusted(kind_of_business, sales_month, sales) values(?,?,?)\", row['kind_of_business'], row['sales_month'], row['sales'])\n",
    "cnxn.commit()\n",
    "cursor.close()"
   ]
  },
  {
   "cell_type": "code",
   "execution_count": 124,
   "id": "3f16a0ce-442f-4ede-917d-c671ea2b729c",
   "metadata": {
    "scrolled": true
   },
   "outputs": [],
   "source": [
    "import pyodbc\n",
    "\n",
    "server = r'localhost\\SQLEXPRESS' \n",
    "database = 'clothing_business_sales' \n",
    "username = r'LAPTOP-J7KF0B2O\\ANJALI' \n",
    "password = '' \n",
    "\n",
    "cnxn = pyodbc.connect('DRIVER={ODBC Driver 17 for SQL Server};'\n",
    "                      'SERVER=' + server + ';'\n",
    "                      'DATABASE=' + database + ';'\n",
    "                      'Trusted_Connection=yes;')\n",
    "cursor = cnxn.cursor()\n",
    "\n",
    "# Delete existing data\n",
    "cursor.execute(\"DELETE FROM clothing_business_sales.adjusted\")\n",
    "\n",
    "# Insert Dataframe into SQL Server:\n",
    "for index, row in adjusted_clothing_sales.iterrows():\n",
    "     cursor.execute(\"INSERT INTO clothing_business_sales.adjusted(kind_of_business, sales_month, sales) values(?,?,?)\", row['kind_of_business'], row['sales_month'], row['sales'])\n",
    "cnxn.commit()\n",
    "cursor.close()"
   ]
  }
 ],
 "metadata": {
  "kernelspec": {
   "display_name": "Python 3 (ipykernel)",
   "language": "python",
   "name": "python3"
  },
  "language_info": {
   "codemirror_mode": {
    "name": "ipython",
    "version": 3
   },
   "file_extension": ".py",
   "mimetype": "text/x-python",
   "name": "python",
   "nbconvert_exporter": "python",
   "pygments_lexer": "ipython3",
   "version": "3.12.4"
  }
 },
 "nbformat": 4,
 "nbformat_minor": 5
}
